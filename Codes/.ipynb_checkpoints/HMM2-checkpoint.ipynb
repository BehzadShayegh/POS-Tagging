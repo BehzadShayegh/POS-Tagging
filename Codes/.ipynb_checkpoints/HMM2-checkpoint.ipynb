{
 "cells": [
  {
   "cell_type": "code",
   "execution_count": 2,
   "metadata": {
    "colab": {
     "base_uri": "https://localhost:8080/",
     "height": 117,
     "referenced_widgets": [
      "a9951281c3704b07b3c0fc9ab83a7325",
      "b3ade5a7d9b64bc5a4b367220cb47c9e",
      "d58fd7b2818b4663a32fe1205bae5d5f",
      "20de637058144cbb8140afc6ba7fa80b",
      "4a70f13dc7dd4abaa601058c478888e8",
      "7cd2d5d6e5814d32ba1864c9c2652b4e",
      "4113b6b124c44807aded8235930041e3",
      "2cc93d1c5bdd4179928fc4b55bfb0a1f",
      "75f31e330e304dab8355a78fd411680d",
      "b0991c91c63c4deb87bd1cf9fd3e1892",
      "51f2802ebf5d454b9a9628df5eafbae0",
      "dd02f94f306c4c6e9c15362cf51208c6",
      "3810bd1501d846f8a63bd938f2ac1489",
      "0437d8bdebf74f4eac1e9e9207cd8c04",
      "f58a0d292ed84f5c8374daa2b8382530",
      "ad3585fbe00d401d8d61a19b0b2d1e34"
     ]
    },
    "colab_type": "code",
    "id": "yVBsVygrHXrD",
    "outputId": "c7cc7605-1aaa-43a7-f51c-d1fa1890846d"
   },
   "outputs": [
    {
     "data": {
      "application/vnd.jupyter.widget-view+json": {
       "model_id": "a9951281c3704b07b3c0fc9ab83a7325",
       "version_major": 2,
       "version_minor": 0
      },
      "text/plain": [
       "HBox(children=(IntProgress(value=0, max=87151), HTML(value='')))"
      ]
     },
     "metadata": {
      "tags": []
     },
     "output_type": "display_data"
    },
    {
     "name": "stdout",
     "output_type": "stream",
     "text": [
      "\n"
     ]
    },
    {
     "data": {
      "application/vnd.jupyter.widget-view+json": {
       "model_id": "75f31e330e304dab8355a78fd411680d",
       "version_major": 2,
       "version_minor": 0
      },
      "text/plain": [
       "HBox(children=(IntProgress(value=0, max=22241), HTML(value='')))"
      ]
     },
     "metadata": {
      "tags": []
     },
     "output_type": "display_data"
    },
    {
     "name": "stdout",
     "output_type": "stream",
     "text": [
      "\n"
     ]
    }
   ],
   "source": [
    "import pandas as pd\n",
    "from tqdm.notebook import tqdm\n",
    "\n",
    "dftrain = pd.read_csv('viterbi_train.csv')\n",
    "dftest = pd.read_csv('viterbi_test.csv')\n",
    "sen = ''\n",
    "for i in tqdm(range(dftrain.shape[0])) :\n",
    "  s = dftrain.iloc[i,0]\n",
    "  if type(s) == type('') :\n",
    "    sen = s\n",
    "  else :\n",
    "    dftrain.iloc[i,0] = sen\n",
    "\n",
    "for i in tqdm(range(dftest.shape[0])) :\n",
    "  if pd.isna(dftest.pos[i]) :\n",
    "    continue\n",
    "  s = dftest.iloc[i,0]\n",
    "  if type(s) == type('') :\n",
    "    sen = s\n",
    "  else :\n",
    "    dftest.iloc[i,0] = sen"
   ]
  },
  {
   "cell_type": "code",
   "execution_count": 0,
   "metadata": {
    "colab": {},
    "colab_type": "code",
    "id": "ZszHXqZQHIIA"
   },
   "outputs": [],
   "source": [
    "import operator\n",
    "import numpy as np\n",
    "\n",
    "class Viterbi :\n",
    "  def __init__(self, V, T) :\n",
    "    self.vocab = set(V)\n",
    "    self.vocab.add('<UKN>')\n",
    "    self.T = T+['<s>','</s>']\n",
    "    self.tag_word = pd.DataFrame(1, columns=list(self.vocab), index=self.T)\n",
    "    self.tag_tag = pd.DataFrame(1, index=self.T, columns=self.T)\n",
    "    self.fix = False\n",
    "\n",
    "  def check_word(self, w) :\n",
    "    return w if w in self.vocab else '<UKN>'\n",
    "\n",
    "  def train_sen(self, w, t) :\n",
    "    self.tag_tag.loc[t[0],'<s>'] += 1\n",
    "    for i in range(1,len(t)) :\n",
    "      self.tag_tag.loc[t[i],t[i-1]] += 1\n",
    "    self.tag_tag.loc['</s>',t[i]] = 1\n",
    "    for i in range(len(t)) :\n",
    "      self.tag_word.loc[t[i],self.check_word(w[i])] += 1\n",
    "\n",
    "  def train(self, w, t) :\n",
    "    for i in tqdm(range(len(t))) :\n",
    "      self.train_sen(w[i],t[i])\n",
    "\n",
    "  def train_pandas(self, df, sen='Sen', word='word', pos='pos') :\n",
    "    for i,d in tqdm(df.groupby(sen)) :\n",
    "      self.train_sen(d[word].values, d[pos].values)\n",
    "\n",
    "  def fix_it(self) :\n",
    "    self.t_tag = {t: self.tag_tag.loc[:,t].sum() for t in self.T}\n",
    "    self.t_word = {w: self.tag_word.loc[:,w].sum() for w in self.vocab}\n",
    "    self.fix = True\n",
    "\n",
    "  def tag_tag_prob(self, t, pt, log=True) :\n",
    "    total = self.t_tag[pt] if self.fix else self.tag_tag.loc[:,pt].sum()\n",
    "    p = self.tag_tag.loc[t,pt] / total\n",
    "    return np.log(p) if log else p\n",
    "\n",
    "  def tag_word_prob(self, t, w, log=True) :\n",
    "    total = self.t_word[self.check_word(w)] if self.fix else self.tag_word.loc[:,self.check_word(w)].sum()\n",
    "    p = self.tag_word.loc[t,self.check_word(w)] / total\n",
    "    return np.log(p) if log else p\n",
    "\n",
    "  def prob(self,w,t,pt) :\n",
    "    return self.tag_tag_prob(t,pt) + self.tag_word_prob(t,w)\n",
    "            \n",
    "\n",
    "  def find_path(self, path, best) :\n",
    "    p = [best]\n",
    "    for w in reversed(path.columns) :\n",
    "      p.append(path.loc[p[-1],w])\n",
    "    return list(reversed(p[:-1]))\n",
    "\n",
    "  def tag_sen(self, w) :\n",
    "    l = len(w)\n",
    "    probs = pd.DataFrame(0, columns=range(l+1), index=self.T)\n",
    "    path = pd.DataFrame(0, columns=range(l), index=self.T)\n",
    "    probs.loc['<s>',0] = 0\n",
    "    for i in range(1,l+1) :\n",
    "      word = w[i-1]\n",
    "      for t in self.T :\n",
    "        options = {past_t: probs.loc[past_t,i-1] + self.prob(word,t,past_t) for past_t in self.T}\n",
    "        best,prob = max(options.items(), key=operator.itemgetter(1))\n",
    "        probs.loc[t,i] = prob\n",
    "        path.loc[t,i-1] = best\n",
    "    options = {past_t: probs.loc[past_t,l] + self.tag_tag_prob('</s>',past_t) for past_t in self.T}\n",
    "    best,prob = max(options.items(), key=operator.itemgetter(1))\n",
    "    return self.find_path(path, best), prob\n",
    "\n",
    "  def test_pandas(self, df, sen='Sen', word='word') :\n",
    "    output = list()\n",
    "    for i,d in tqdm(df.groupby(sen)) :\n",
    "      output += self.tag_sen(d[word].values)[0]\n",
    "    return output"
   ]
  },
  {
   "cell_type": "code",
   "execution_count": 137,
   "metadata": {
    "colab": {
     "base_uri": "https://localhost:8080/",
     "height": 67,
     "referenced_widgets": [
      "655c241b771c408a9ed5b3b8697241c9",
      "bcd3bc795cd24820b47cb328ee4994c6",
      "0228268e311e483dacf24b9bd6cd4191",
      "93e9752586164c7f826e6e6f6d0f231e",
      "7c5da5fe7cc447fc846635c55bb81867",
      "59d86e32a94c44a68271416143ae6ef4",
      "efa580f2ba0e4f1894545754b97be5f4",
      "087327edcf054883b38da9b697f0fb0a"
     ]
    },
    "colab_type": "code",
    "id": "KrjZUcyX10yH",
    "outputId": "91903b46-2383-4c81-fdd4-f38ce25540b9"
   },
   "outputs": [
    {
     "data": {
      "application/vnd.jupyter.widget-view+json": {
       "model_id": "655c241b771c408a9ed5b3b8697241c9",
       "version_major": 2,
       "version_minor": 0
      },
      "text/plain": [
       "HBox(children=(IntProgress(value=0, max=4000), HTML(value='')))"
      ]
     },
     "metadata": {
      "tags": []
     },
     "output_type": "display_data"
    },
    {
     "name": "stdout",
     "output_type": "stream",
     "text": [
      "\n"
     ]
    }
   ],
   "source": [
    "pos_list = pd.read_csv('pos_list.csv').POS_list.values.tolist()\n",
    "viterbi = Viterbi(dftrain.word, pos_list)\n",
    "viterbi.train_pandas(dftrain)\n",
    "viterbi.fix_it()"
   ]
  },
  {
   "cell_type": "code",
   "execution_count": 138,
   "metadata": {
    "colab": {
     "base_uri": "https://localhost:8080/",
     "height": 67,
     "referenced_widgets": [
      "7664cb9bdabd495ead6a0c56ccef6d91",
      "7a7f44c587534ab6b457bdd4136afc70",
      "a36fa4b4a493404d941c3ad5a08b83e7",
      "ca51a408ddcf435dbb5c2af4b209c9dc",
      "e7cbda78bfff4b838d5a5cca25e6a048",
      "b601b520f7ec4880931a47ccb7ea9872",
      "c648dca49ad54e5ca65802dbacecfc56",
      "93c7c17242a145bb8d3eff30e5ea04c8"
     ]
    },
    "colab_type": "code",
    "id": "8w-1IMuGBjYH",
    "outputId": "b347b886-3693-463c-dd6f-032a816ed8b4"
   },
   "outputs": [
    {
     "data": {
      "application/vnd.jupyter.widget-view+json": {
       "model_id": "7664cb9bdabd495ead6a0c56ccef6d91",
       "version_major": 2,
       "version_minor": 0
      },
      "text/plain": [
       "HBox(children=(IntProgress(value=0, max=1001), HTML(value='')))"
      ]
     },
     "metadata": {
      "tags": []
     },
     "output_type": "display_data"
    },
    {
     "name": "stdout",
     "output_type": "stream",
     "text": [
      "\n"
     ]
    }
   ],
   "source": [
    "predict = viterbi.test_pandas(dftest)"
   ]
  },
  {
   "cell_type": "code",
   "execution_count": 0,
   "metadata": {
    "colab": {},
    "colab_type": "code",
    "id": "4fLNlqinM6Fx"
   },
   "outputs": [],
   "source": [
    "dftest['predict'] = predict"
   ]
  },
  {
   "cell_type": "code",
   "execution_count": 141,
   "metadata": {
    "colab": {
     "base_uri": "https://localhost:8080/",
     "height": 35
    },
    "colab_type": "code",
    "id": "dtXsXg5k2Wmq",
    "outputId": "4caf5c7f-cbdc-4e05-de01-1c28b5fc3ddd"
   },
   "outputs": [
    {
     "name": "stdout",
     "output_type": "stream",
     "text": [
      "Accuracy = 0.8626860303043928\n"
     ]
    }
   ],
   "source": [
    "acc = (dftest.pos == dftest.predict).sum() / dftest.shape[0]\n",
    "print('Accuracy =', acc)"
   ]
  },
  {
   "cell_type": "code",
   "execution_count": 0,
   "metadata": {
    "colab": {},
    "colab_type": "code",
    "id": "oOCcUayoj2QG"
   },
   "outputs": [],
   "source": [
    "dftest.to_csv('result_HMM2.csv')"
   ]
  },
  {
   "cell_type": "code",
   "execution_count": 143,
   "metadata": {
    "colab": {
     "base_uri": "https://localhost:8080/",
     "height": 1000
    },
    "colab_type": "code",
    "id": "plx7V_ldJo12",
    "outputId": "97aa746a-d727-4868-af60-0088f50992ab"
   },
   "outputs": [
    {
     "name": "stderr",
     "output_type": "stream",
     "text": [
      "/usr/local/lib/python3.6/dist-packages/statsmodels/tools/_testing.py:19: FutureWarning: pandas.util.testing is deprecated. Use the functions in the public API at pandas.testing instead.\n",
      "  import pandas.util.testing as tm\n"
     ]
    },
    {
     "data": {
      "image/png": "[encoded data removed]",
      "text/plain": [
       "<Figure size 1800x1656 with 2 Axes>"
      ]
     },
     "metadata": {
      "needs_background": "light",
      "tags": []
     },
     "output_type": "display_data"
    }
   ],
   "source": [
    "from sklearn.metrics import confusion_matrix, precision_score, recall_score, f1_score\n",
    "import matplotlib.pyplot as plt\n",
    "import seaborn as sn\n",
    "\n",
    "fig, ax = plt.subplots(figsize=(25,23))\n",
    "l,p = dftest.pos.tolist(), dftest.predict.tolist()\n",
    "cm = confusion_matrix(l,p)\n",
    "df_cm = pd.DataFrame(cm, pd.unique(l), pd.unique(l))\n",
    "sn.heatmap(df_cm, annot=True, cmap=\"Blues\", ax=ax, vmax=200)\n",
    "ax.set_title('HMM module')\n",
    "ax.set_ylabel('True Class')\n",
    "ax.set_xlabel('Predicted Class \\n\\n'\n",
    "    'f1 : ' + str(f1_score(l,p, average='micro')) + '\\n' + \\\n",
    "    'Precision : ' + str(precision_score(l,p, average='micro')) + '\\n' + \\\n",
    "    'recall : ' + str(recall_score(l,p, average='micro'))\n",
    ")\n",
    "plt.show()"
   ]
  },
  {
   "cell_type": "code",
   "execution_count": 144,
   "metadata": {
    "colab": {
     "base_uri": "https://localhost:8080/",
     "height": 71
    },
    "colab_type": "code",
    "id": "fhn7EO2A4Vts",
    "outputId": "fff82f1b-65ce-4062-bf59-7ed7fcecff0c"
   },
   "outputs": [
    {
     "name": "stdout",
     "output_type": "stream",
     "text": [
      "f1 : 0.8626860303043928\n",
      "Precision : 0.8626860303043928\n",
      "recall : 0.8626860303043928\n"
     ]
    }
   ],
   "source": [
    "print('f1 : ' + str(f1_score(l,p, average='micro')) + '\\n' + \\\n",
    "    'Precision : ' + str(precision_score(l,p, average='micro')) + '\\n' + \\\n",
    "    'recall : ' + str(recall_score(l,p, average='micro')))"
   ]
  },
  {
   "cell_type": "code",
   "execution_count": 0,
   "metadata": {
    "colab": {},
    "colab_type": "code",
    "id": "J66tszc8b2h-"
   },
   "outputs": [],
   "source": []
  }
 ],
 "metadata": {
  "colab": {
   "collapsed_sections": [],
   "machine_shape": "hm",
   "name": "NLP-CA#4-HMM-Part2.ipynb",
   "provenance": []
  },
  "kernelspec": {
   "display_name": "Python 3",
   "language": "python",
   "name": "python3"
  },
  "language_info": {
   "codemirror_mode": {
    "name": "ipython",
    "version": 3
   },
   "file_extension": ".py",
   "mimetype": "text/x-python",
   "name": "python",
   "nbconvert_exporter": "python",
   "pygments_lexer": "ipython3",
   "version": "3.7.5"
  },
  "widgets": {
   "application/vnd.jupyter.widget-state+json": {
    "0228268e311e483dacf24b9bd6cd4191": {
     "model_module": "@jupyter-widgets/controls",
     "model_name": "IntProgressModel",
     "state": {
      "_dom_classes": [],
      "_model_module": "@jupyter-widgets/controls",
      "_model_module_version": "1.5.0",
      "_model_name": "IntProgressModel",
      "_view_count": null,
      "_view_module": "@jupyter-widgets/controls",
      "_view_module_version": "1.5.0",
      "_view_name": "ProgressView",
      "bar_style": "success",
      "description": "100%",
      "description_tooltip": null,
      "layout": "IPY_MODEL_59d86e32a94c44a68271416143ae6ef4",
      "max": 4000,
      "min": 0,
      "orientation": "horizontal",
      "style": "IPY_MODEL_7c5da5fe7cc447fc846635c55bb81867",
      "value": 4000
     }
    },
    "0437d8bdebf74f4eac1e9e9207cd8c04": {
     "model_module": "@jupyter-widgets/base",
     "model_name": "LayoutModel",
     "state": {
      "_model_module": "@jupyter-widgets/base",
      "_model_module_version": "1.2.0",
      "_model_name": "LayoutModel",
      "_view_count": null,
      "_view_module": "@jupyter-widgets/base",
      "_view_module_version": "1.2.0",
      "_view_name": "LayoutView",
      "align_content": null,
      "align_items": null,
      "align_self": null,
      "border": null,
      "bottom": null,
      "display": null,
      "flex": null,
      "flex_flow": null,
      "grid_area": null,
      "grid_auto_columns": null,
      "grid_auto_flow": null,
      "grid_auto_rows": null,
      "grid_column": null,
      "grid_gap": null,
      "grid_row": null,
      "grid_template_areas": null,
      "grid_template_columns": null,
      "grid_template_rows": null,
      "height": null,
      "justify_content": null,
      "justify_items": null,
      "left": null,
      "margin": null,
      "max_height": null,
      "max_width": null,
      "min_height": null,
      "min_width": null,
      "object_fit": null,
      "object_position": null,
      "order": null,
      "overflow": null,
      "overflow_x": null,
      "overflow_y": null,
      "padding": null,
      "right": null,
      "top": null,
      "visibility": null,
      "width": null
     }
    },
    "087327edcf054883b38da9b697f0fb0a": {
     "model_module": "@jupyter-widgets/base",
     "model_name": "LayoutModel",
     "state": {
      "_model_module": "@jupyter-widgets/base",
      "_model_module_version": "1.2.0",
      "_model_name": "LayoutModel",
      "_view_count": null,
      "_view_module": "@jupyter-widgets/base",
      "_view_module_version": "1.2.0",
      "_view_name": "LayoutView",
      "align_content": null,
      "align_items": null,
      "align_self": null,
      "border": null,
      "bottom": null,
      "display": null,
      "flex": null,
      "flex_flow": null,
      "grid_area": null,
      "grid_auto_columns": null,
      "grid_auto_flow": null,
      "grid_auto_rows": null,
      "grid_column": null,
      "grid_gap": null,
      "grid_row": null,
      "grid_template_areas": null,
      "grid_template_columns": null,
      "grid_template_rows": null,
      "height": null,
      "justify_content": null,
      "justify_items": null,
      "left": null,
      "margin": null,
      "max_height": null,
      "max_width": null,
      "min_height": null,
      "min_width": null,
      "object_fit": null,
      "object_position": null,
      "order": null,
      "overflow": null,
      "overflow_x": null,
      "overflow_y": null,
      "padding": null,
      "right": null,
      "top": null,
      "visibility": null,
      "width": null
     }
    },
    "20de637058144cbb8140afc6ba7fa80b": {
     "model_module": "@jupyter-widgets/controls",
     "model_name": "HTMLModel",
     "state": {
      "_dom_classes": [],
      "_model_module": "@jupyter-widgets/controls",
      "_model_module_version": "1.5.0",
      "_model_name": "HTMLModel",
      "_view_count": null,
      "_view_module": "@jupyter-widgets/controls",
      "_view_module_version": "1.5.0",
      "_view_name": "HTMLView",
      "description": "",
      "description_tooltip": null,
      "layout": "IPY_MODEL_2cc93d1c5bdd4179928fc4b55bfb0a1f",
      "placeholder": "​",
      "style": "IPY_MODEL_4113b6b124c44807aded8235930041e3",
      "value": " 87151/87151 [02:38&lt;00:00, 549.39it/s]"
     }
    },
    "2cc93d1c5bdd4179928fc4b55bfb0a1f": {
     "model_module": "@jupyter-widgets/base",
     "model_name": "LayoutModel",
     "state": {
      "_model_module": "@jupyter-widgets/base",
      "_model_module_version": "1.2.0",
      "_model_name": "LayoutModel",
      "_view_count": null,
      "_view_module": "@jupyter-widgets/base",
      "_view_module_version": "1.2.0",
      "_view_name": "LayoutView",
      "align_content": null,
      "align_items": null,
      "align_self": null,
      "border": null,
      "bottom": null,
      "display": null,
      "flex": null,
      "flex_flow": null,
      "grid_area": null,
      "grid_auto_columns": null,
      "grid_auto_flow": null,
      "grid_auto_rows": null,
      "grid_column": null,
      "grid_gap": null,
      "grid_row": null,
      "grid_template_areas": null,
      "grid_template_columns": null,
      "grid_template_rows": null,
      "height": null,
      "justify_content": null,
      "justify_items": null,
      "left": null,
      "margin": null,
      "max_height": null,
      "max_width": null,
      "min_height": null,
      "min_width": null,
      "object_fit": null,
      "object_position": null,
      "order": null,
      "overflow": null,
      "overflow_x": null,
      "overflow_y": null,
      "padding": null,
      "right": null,
      "top": null,
      "visibility": null,
      "width": null
     }
    },
    "3810bd1501d846f8a63bd938f2ac1489": {
     "model_module": "@jupyter-widgets/controls",
     "model_name": "ProgressStyleModel",
     "state": {
      "_model_module": "@jupyter-widgets/controls",
      "_model_module_version": "1.5.0",
      "_model_name": "ProgressStyleModel",
      "_view_count": null,
      "_view_module": "@jupyter-widgets/base",
      "_view_module_version": "1.2.0",
      "_view_name": "StyleView",
      "bar_color": null,
      "description_width": "initial"
     }
    },
    "4113b6b124c44807aded8235930041e3": {
     "model_module": "@jupyter-widgets/controls",
     "model_name": "DescriptionStyleModel",
     "state": {
      "_model_module": "@jupyter-widgets/controls",
      "_model_module_version": "1.5.0",
      "_model_name": "DescriptionStyleModel",
      "_view_count": null,
      "_view_module": "@jupyter-widgets/base",
      "_view_module_version": "1.2.0",
      "_view_name": "StyleView",
      "description_width": ""
     }
    },
    "4a70f13dc7dd4abaa601058c478888e8": {
     "model_module": "@jupyter-widgets/controls",
     "model_name": "ProgressStyleModel",
     "state": {
      "_model_module": "@jupyter-widgets/controls",
      "_model_module_version": "1.5.0",
      "_model_name": "ProgressStyleModel",
      "_view_count": null,
      "_view_module": "@jupyter-widgets/base",
      "_view_module_version": "1.2.0",
      "_view_name": "StyleView",
      "bar_color": null,
      "description_width": "initial"
     }
    },
    "51f2802ebf5d454b9a9628df5eafbae0": {
     "model_module": "@jupyter-widgets/controls",
     "model_name": "IntProgressModel",
     "state": {
      "_dom_classes": [],
      "_model_module": "@jupyter-widgets/controls",
      "_model_module_version": "1.5.0",
      "_model_name": "IntProgressModel",
      "_view_count": null,
      "_view_module": "@jupyter-widgets/controls",
      "_view_module_version": "1.5.0",
      "_view_name": "ProgressView",
      "bar_style": "success",
      "description": "100%",
      "description_tooltip": null,
      "layout": "IPY_MODEL_0437d8bdebf74f4eac1e9e9207cd8c04",
      "max": 22241,
      "min": 0,
      "orientation": "horizontal",
      "style": "IPY_MODEL_3810bd1501d846f8a63bd938f2ac1489",
      "value": 22241
     }
    },
    "59d86e32a94c44a68271416143ae6ef4": {
     "model_module": "@jupyter-widgets/base",
     "model_name": "LayoutModel",
     "state": {
      "_model_module": "@jupyter-widgets/base",
      "_model_module_version": "1.2.0",
      "_model_name": "LayoutModel",
      "_view_count": null,
      "_view_module": "@jupyter-widgets/base",
      "_view_module_version": "1.2.0",
      "_view_name": "LayoutView",
      "align_content": null,
      "align_items": null,
      "align_self": null,
      "border": null,
      "bottom": null,
      "display": null,
      "flex": null,
      "flex_flow": null,
      "grid_area": null,
      "grid_auto_columns": null,
      "grid_auto_flow": null,
      "grid_auto_rows": null,
      "grid_column": null,
      "grid_gap": null,
      "grid_row": null,
      "grid_template_areas": null,
      "grid_template_columns": null,
      "grid_template_rows": null,
      "height": null,
      "justify_content": null,
      "justify_items": null,
      "left": null,
      "margin": null,
      "max_height": null,
      "max_width": null,
      "min_height": null,
      "min_width": null,
      "object_fit": null,
      "object_position": null,
      "order": null,
      "overflow": null,
      "overflow_x": null,
      "overflow_y": null,
      "padding": null,
      "right": null,
      "top": null,
      "visibility": null,
      "width": null
     }
    },
    "655c241b771c408a9ed5b3b8697241c9": {
     "model_module": "@jupyter-widgets/controls",
     "model_name": "HBoxModel",
     "state": {
      "_dom_classes": [],
      "_model_module": "@jupyter-widgets/controls",
      "_model_module_version": "1.5.0",
      "_model_name": "HBoxModel",
      "_view_count": null,
      "_view_module": "@jupyter-widgets/controls",
      "_view_module_version": "1.5.0",
      "_view_name": "HBoxView",
      "box_style": "",
      "children": [
       "IPY_MODEL_0228268e311e483dacf24b9bd6cd4191",
       "IPY_MODEL_93e9752586164c7f826e6e6f6d0f231e"
      ],
      "layout": "IPY_MODEL_bcd3bc795cd24820b47cb328ee4994c6"
     }
    },
    "75f31e330e304dab8355a78fd411680d": {
     "model_module": "@jupyter-widgets/controls",
     "model_name": "HBoxModel",
     "state": {
      "_dom_classes": [],
      "_model_module": "@jupyter-widgets/controls",
      "_model_module_version": "1.5.0",
      "_model_name": "HBoxModel",
      "_view_count": null,
      "_view_module": "@jupyter-widgets/controls",
      "_view_module_version": "1.5.0",
      "_view_name": "HBoxView",
      "box_style": "",
      "children": [
       "IPY_MODEL_51f2802ebf5d454b9a9628df5eafbae0",
       "IPY_MODEL_dd02f94f306c4c6e9c15362cf51208c6"
      ],
      "layout": "IPY_MODEL_b0991c91c63c4deb87bd1cf9fd3e1892"
     }
    },
    "7664cb9bdabd495ead6a0c56ccef6d91": {
     "model_module": "@jupyter-widgets/controls",
     "model_name": "HBoxModel",
     "state": {
      "_dom_classes": [],
      "_model_module": "@jupyter-widgets/controls",
      "_model_module_version": "1.5.0",
      "_model_name": "HBoxModel",
      "_view_count": null,
      "_view_module": "@jupyter-widgets/controls",
      "_view_module_version": "1.5.0",
      "_view_name": "HBoxView",
      "box_style": "",
      "children": [
       "IPY_MODEL_a36fa4b4a493404d941c3ad5a08b83e7",
       "IPY_MODEL_ca51a408ddcf435dbb5c2af4b209c9dc"
      ],
      "layout": "IPY_MODEL_7a7f44c587534ab6b457bdd4136afc70"
     }
    },
    "7a7f44c587534ab6b457bdd4136afc70": {
     "model_module": "@jupyter-widgets/base",
     "model_name": "LayoutModel",
     "state": {
      "_model_module": "@jupyter-widgets/base",
      "_model_module_version": "1.2.0",
      "_model_name": "LayoutModel",
      "_view_count": null,
      "_view_module": "@jupyter-widgets/base",
      "_view_module_version": "1.2.0",
      "_view_name": "LayoutView",
      "align_content": null,
      "align_items": null,
      "align_self": null,
      "border": null,
      "bottom": null,
      "display": null,
      "flex": null,
      "flex_flow": null,
      "grid_area": null,
      "grid_auto_columns": null,
      "grid_auto_flow": null,
      "grid_auto_rows": null,
      "grid_column": null,
      "grid_gap": null,
      "grid_row": null,
      "grid_template_areas": null,
      "grid_template_columns": null,
      "grid_template_rows": null,
      "height": null,
      "justify_content": null,
      "justify_items": null,
      "left": null,
      "margin": null,
      "max_height": null,
      "max_width": null,
      "min_height": null,
      "min_width": null,
      "object_fit": null,
      "object_position": null,
      "order": null,
      "overflow": null,
      "overflow_x": null,
      "overflow_y": null,
      "padding": null,
      "right": null,
      "top": null,
      "visibility": null,
      "width": null
     }
    },
    "7c5da5fe7cc447fc846635c55bb81867": {
     "model_module": "@jupyter-widgets/controls",
     "model_name": "ProgressStyleModel",
     "state": {
      "_model_module": "@jupyter-widgets/controls",
      "_model_module_version": "1.5.0",
      "_model_name": "ProgressStyleModel",
      "_view_count": null,
      "_view_module": "@jupyter-widgets/base",
      "_view_module_version": "1.2.0",
      "_view_name": "StyleView",
      "bar_color": null,
      "description_width": "initial"
     }
    },
    "7cd2d5d6e5814d32ba1864c9c2652b4e": {
     "model_module": "@jupyter-widgets/base",
     "model_name": "LayoutModel",
     "state": {
      "_model_module": "@jupyter-widgets/base",
      "_model_module_version": "1.2.0",
      "_model_name": "LayoutModel",
      "_view_count": null,
      "_view_module": "@jupyter-widgets/base",
      "_view_module_version": "1.2.0",
      "_view_name": "LayoutView",
      "align_content": null,
      "align_items": null,
      "align_self": null,
      "border": null,
      "bottom": null,
      "display": null,
      "flex": null,
      "flex_flow": null,
      "grid_area": null,
      "grid_auto_columns": null,
      "grid_auto_flow": null,
      "grid_auto_rows": null,
      "grid_column": null,
      "grid_gap": null,
      "grid_row": null,
      "grid_template_areas": null,
      "grid_template_columns": null,
      "grid_template_rows": null,
      "height": null,
      "justify_content": null,
      "justify_items": null,
      "left": null,
      "margin": null,
      "max_height": null,
      "max_width": null,
      "min_height": null,
      "min_width": null,
      "object_fit": null,
      "object_position": null,
      "order": null,
      "overflow": null,
      "overflow_x": null,
      "overflow_y": null,
      "padding": null,
      "right": null,
      "top": null,
      "visibility": null,
      "width": null
     }
    },
    "93c7c17242a145bb8d3eff30e5ea04c8": {
     "model_module": "@jupyter-widgets/base",
     "model_name": "LayoutModel",
     "state": {
      "_model_module": "@jupyter-widgets/base",
      "_model_module_version": "1.2.0",
      "_model_name": "LayoutModel",
      "_view_count": null,
      "_view_module": "@jupyter-widgets/base",
      "_view_module_version": "1.2.0",
      "_view_name": "LayoutView",
      "align_content": null,
      "align_items": null,
      "align_self": null,
      "border": null,
      "bottom": null,
      "display": null,
      "flex": null,
      "flex_flow": null,
      "grid_area": null,
      "grid_auto_columns": null,
      "grid_auto_flow": null,
      "grid_auto_rows": null,
      "grid_column": null,
      "grid_gap": null,
      "grid_row": null,
      "grid_template_areas": null,
      "grid_template_columns": null,
      "grid_template_rows": null,
      "height": null,
      "justify_content": null,
      "justify_items": null,
      "left": null,
      "margin": null,
      "max_height": null,
      "max_width": null,
      "min_height": null,
      "min_width": null,
      "object_fit": null,
      "object_position": null,
      "order": null,
      "overflow": null,
      "overflow_x": null,
      "overflow_y": null,
      "padding": null,
      "right": null,
      "top": null,
      "visibility": null,
      "width": null
     }
    },
    "93e9752586164c7f826e6e6f6d0f231e": {
     "model_module": "@jupyter-widgets/controls",
     "model_name": "HTMLModel",
     "state": {
      "_dom_classes": [],
      "_model_module": "@jupyter-widgets/controls",
      "_model_module_version": "1.5.0",
      "_model_name": "HTMLModel",
      "_view_count": null,
      "_view_module": "@jupyter-widgets/controls",
      "_view_module_version": "1.5.0",
      "_view_name": "HTMLView",
      "description": "",
      "description_tooltip": null,
      "layout": "IPY_MODEL_087327edcf054883b38da9b697f0fb0a",
      "placeholder": "​",
      "style": "IPY_MODEL_efa580f2ba0e4f1894545754b97be5f4",
      "value": " 4000/4000 [42:05&lt;00:00,  1.58it/s]"
     }
    },
    "a36fa4b4a493404d941c3ad5a08b83e7": {
     "model_module": "@jupyter-widgets/controls",
     "model_name": "IntProgressModel",
     "state": {
      "_dom_classes": [],
      "_model_module": "@jupyter-widgets/controls",
      "_model_module_version": "1.5.0",
      "_model_name": "IntProgressModel",
      "_view_count": null,
      "_view_module": "@jupyter-widgets/controls",
      "_view_module_version": "1.5.0",
      "_view_name": "ProgressView",
      "bar_style": "success",
      "description": "100%",
      "description_tooltip": null,
      "layout": "IPY_MODEL_b601b520f7ec4880931a47ccb7ea9872",
      "max": 1001,
      "min": 0,
      "orientation": "horizontal",
      "style": "IPY_MODEL_e7cbda78bfff4b838d5a5cca25e6a048",
      "value": 1001
     }
    },
    "a9951281c3704b07b3c0fc9ab83a7325": {
     "model_module": "@jupyter-widgets/controls",
     "model_name": "HBoxModel",
     "state": {
      "_dom_classes": [],
      "_model_module": "@jupyter-widgets/controls",
      "_model_module_version": "1.5.0",
      "_model_name": "HBoxModel",
      "_view_count": null,
      "_view_module": "@jupyter-widgets/controls",
      "_view_module_version": "1.5.0",
      "_view_name": "HBoxView",
      "box_style": "",
      "children": [
       "IPY_MODEL_d58fd7b2818b4663a32fe1205bae5d5f",
       "IPY_MODEL_20de637058144cbb8140afc6ba7fa80b"
      ],
      "layout": "IPY_MODEL_b3ade5a7d9b64bc5a4b367220cb47c9e"
     }
    },
    "ad3585fbe00d401d8d61a19b0b2d1e34": {
     "model_module": "@jupyter-widgets/base",
     "model_name": "LayoutModel",
     "state": {
      "_model_module": "@jupyter-widgets/base",
      "_model_module_version": "1.2.0",
      "_model_name": "LayoutModel",
      "_view_count": null,
      "_view_module": "@jupyter-widgets/base",
      "_view_module_version": "1.2.0",
      "_view_name": "LayoutView",
      "align_content": null,
      "align_items": null,
      "align_self": null,
      "border": null,
      "bottom": null,
      "display": null,
      "flex": null,
      "flex_flow": null,
      "grid_area": null,
      "grid_auto_columns": null,
      "grid_auto_flow": null,
      "grid_auto_rows": null,
      "grid_column": null,
      "grid_gap": null,
      "grid_row": null,
      "grid_template_areas": null,
      "grid_template_columns": null,
      "grid_template_rows": null,
      "height": null,
      "justify_content": null,
      "justify_items": null,
      "left": null,
      "margin": null,
      "max_height": null,
      "max_width": null,
      "min_height": null,
      "min_width": null,
      "object_fit": null,
      "object_position": null,
      "order": null,
      "overflow": null,
      "overflow_x": null,
      "overflow_y": null,
      "padding": null,
      "right": null,
      "top": null,
      "visibility": null,
      "width": null
     }
    },
    "b0991c91c63c4deb87bd1cf9fd3e1892": {
     "model_module": "@jupyter-widgets/base",
     "model_name": "LayoutModel",
     "state": {
      "_model_module": "@jupyter-widgets/base",
      "_model_module_version": "1.2.0",
      "_model_name": "LayoutModel",
      "_view_count": null,
      "_view_module": "@jupyter-widgets/base",
      "_view_module_version": "1.2.0",
      "_view_name": "LayoutView",
      "align_content": null,
      "align_items": null,
      "align_self": null,
      "border": null,
      "bottom": null,
      "display": null,
      "flex": null,
      "flex_flow": null,
      "grid_area": null,
      "grid_auto_columns": null,
      "grid_auto_flow": null,
      "grid_auto_rows": null,
      "grid_column": null,
      "grid_gap": null,
      "grid_row": null,
      "grid_template_areas": null,
      "grid_template_columns": null,
      "grid_template_rows": null,
      "height": null,
      "justify_content": null,
      "justify_items": null,
      "left": null,
      "margin": null,
      "max_height": null,
      "max_width": null,
      "min_height": null,
      "min_width": null,
      "object_fit": null,
      "object_position": null,
      "order": null,
      "overflow": null,
      "overflow_x": null,
      "overflow_y": null,
      "padding": null,
      "right": null,
      "top": null,
      "visibility": null,
      "width": null
     }
    },
    "b3ade5a7d9b64bc5a4b367220cb47c9e": {
     "model_module": "@jupyter-widgets/base",
     "model_name": "LayoutModel",
     "state": {
      "_model_module": "@jupyter-widgets/base",
      "_model_module_version": "1.2.0",
      "_model_name": "LayoutModel",
      "_view_count": null,
      "_view_module": "@jupyter-widgets/base",
      "_view_module_version": "1.2.0",
      "_view_name": "LayoutView",
      "align_content": null,
      "align_items": null,
      "align_self": null,
      "border": null,
      "bottom": null,
      "display": null,
      "flex": null,
      "flex_flow": null,
      "grid_area": null,
      "grid_auto_columns": null,
      "grid_auto_flow": null,
      "grid_auto_rows": null,
      "grid_column": null,
      "grid_gap": null,
      "grid_row": null,
      "grid_template_areas": null,
      "grid_template_columns": null,
      "grid_template_rows": null,
      "height": null,
      "justify_content": null,
      "justify_items": null,
      "left": null,
      "margin": null,
      "max_height": null,
      "max_width": null,
      "min_height": null,
      "min_width": null,
      "object_fit": null,
      "object_position": null,
      "order": null,
      "overflow": null,
      "overflow_x": null,
      "overflow_y": null,
      "padding": null,
      "right": null,
      "top": null,
      "visibility": null,
      "width": null
     }
    },
    "b601b520f7ec4880931a47ccb7ea9872": {
     "model_module": "@jupyter-widgets/base",
     "model_name": "LayoutModel",
     "state": {
      "_model_module": "@jupyter-widgets/base",
      "_model_module_version": "1.2.0",
      "_model_name": "LayoutModel",
      "_view_count": null,
      "_view_module": "@jupyter-widgets/base",
      "_view_module_version": "1.2.0",
      "_view_name": "LayoutView",
      "align_content": null,
      "align_items": null,
      "align_self": null,
      "border": null,
      "bottom": null,
      "display": null,
      "flex": null,
      "flex_flow": null,
      "grid_area": null,
      "grid_auto_columns": null,
      "grid_auto_flow": null,
      "grid_auto_rows": null,
      "grid_column": null,
      "grid_gap": null,
      "grid_row": null,
      "grid_template_areas": null,
      "grid_template_columns": null,
      "grid_template_rows": null,
      "height": null,
      "justify_content": null,
      "justify_items": null,
      "left": null,
      "margin": null,
      "max_height": null,
      "max_width": null,
      "min_height": null,
      "min_width": null,
      "object_fit": null,
      "object_position": null,
      "order": null,
      "overflow": null,
      "overflow_x": null,
      "overflow_y": null,
      "padding": null,
      "right": null,
      "top": null,
      "visibility": null,
      "width": null
     }
    },
    "bcd3bc795cd24820b47cb328ee4994c6": {
     "model_module": "@jupyter-widgets/base",
     "model_name": "LayoutModel",
     "state": {
      "_model_module": "@jupyter-widgets/base",
      "_model_module_version": "1.2.0",
      "_model_name": "LayoutModel",
      "_view_count": null,
      "_view_module": "@jupyter-widgets/base",
      "_view_module_version": "1.2.0",
      "_view_name": "LayoutView",
      "align_content": null,
      "align_items": null,
      "align_self": null,
      "border": null,
      "bottom": null,
      "display": null,
      "flex": null,
      "flex_flow": null,
      "grid_area": null,
      "grid_auto_columns": null,
      "grid_auto_flow": null,
      "grid_auto_rows": null,
      "grid_column": null,
      "grid_gap": null,
      "grid_row": null,
      "grid_template_areas": null,
      "grid_template_columns": null,
      "grid_template_rows": null,
      "height": null,
      "justify_content": null,
      "justify_items": null,
      "left": null,
      "margin": null,
      "max_height": null,
      "max_width": null,
      "min_height": null,
      "min_width": null,
      "object_fit": null,
      "object_position": null,
      "order": null,
      "overflow": null,
      "overflow_x": null,
      "overflow_y": null,
      "padding": null,
      "right": null,
      "top": null,
      "visibility": null,
      "width": null
     }
    },
    "c648dca49ad54e5ca65802dbacecfc56": {
     "model_module": "@jupyter-widgets/controls",
     "model_name": "DescriptionStyleModel",
     "state": {
      "_model_module": "@jupyter-widgets/controls",
      "_model_module_version": "1.5.0",
      "_model_name": "DescriptionStyleModel",
      "_view_count": null,
      "_view_module": "@jupyter-widgets/base",
      "_view_module_version": "1.2.0",
      "_view_name": "StyleView",
      "description_width": ""
     }
    },
    "ca51a408ddcf435dbb5c2af4b209c9dc": {
     "model_module": "@jupyter-widgets/controls",
     "model_name": "HTMLModel",
     "state": {
      "_dom_classes": [],
      "_model_module": "@jupyter-widgets/controls",
      "_model_module_version": "1.5.0",
      "_model_name": "HTMLModel",
      "_view_count": null,
      "_view_module": "@jupyter-widgets/controls",
      "_view_module_version": "1.5.0",
      "_view_name": "HTMLView",
      "description": "",
      "description_tooltip": null,
      "layout": "IPY_MODEL_93c7c17242a145bb8d3eff30e5ea04c8",
      "placeholder": "​",
      "style": "IPY_MODEL_c648dca49ad54e5ca65802dbacecfc56",
      "value": " 1001/1001 [41:16&lt;00:00,  2.47s/it]"
     }
    },
    "d58fd7b2818b4663a32fe1205bae5d5f": {
     "model_module": "@jupyter-widgets/controls",
     "model_name": "IntProgressModel",
     "state": {
      "_dom_classes": [],
      "_model_module": "@jupyter-widgets/controls",
      "_model_module_version": "1.5.0",
      "_model_name": "IntProgressModel",
      "_view_count": null,
      "_view_module": "@jupyter-widgets/controls",
      "_view_module_version": "1.5.0",
      "_view_name": "ProgressView",
      "bar_style": "success",
      "description": "100%",
      "description_tooltip": null,
      "layout": "IPY_MODEL_7cd2d5d6e5814d32ba1864c9c2652b4e",
      "max": 87151,
      "min": 0,
      "orientation": "horizontal",
      "style": "IPY_MODEL_4a70f13dc7dd4abaa601058c478888e8",
      "value": 87151
     }
    },
    "dd02f94f306c4c6e9c15362cf51208c6": {
     "model_module": "@jupyter-widgets/controls",
     "model_name": "HTMLModel",
     "state": {
      "_dom_classes": [],
      "_model_module": "@jupyter-widgets/controls",
      "_model_module_version": "1.5.0",
      "_model_name": "HTMLModel",
      "_view_count": null,
      "_view_module": "@jupyter-widgets/controls",
      "_view_module_version": "1.5.0",
      "_view_name": "HTMLView",
      "description": "",
      "description_tooltip": null,
      "layout": "IPY_MODEL_ad3585fbe00d401d8d61a19b0b2d1e34",
      "placeholder": "​",
      "style": "IPY_MODEL_f58a0d292ed84f5c8374daa2b8382530",
      "value": " 22241/22241 [02:19&lt;00:00, 159.73it/s]"
     }
    },
    "e7cbda78bfff4b838d5a5cca25e6a048": {
     "model_module": "@jupyter-widgets/controls",
     "model_name": "ProgressStyleModel",
     "state": {
      "_model_module": "@jupyter-widgets/controls",
      "_model_module_version": "1.5.0",
      "_model_name": "ProgressStyleModel",
      "_view_count": null,
      "_view_module": "@jupyter-widgets/base",
      "_view_module_version": "1.2.0",
      "_view_name": "StyleView",
      "bar_color": null,
      "description_width": "initial"
     }
    },
    "efa580f2ba0e4f1894545754b97be5f4": {
     "model_module": "@jupyter-widgets/controls",
     "model_name": "DescriptionStyleModel",
     "state": {
      "_model_module": "@jupyter-widgets/controls",
      "_model_module_version": "1.5.0",
      "_model_name": "DescriptionStyleModel",
      "_view_count": null,
      "_view_module": "@jupyter-widgets/base",
      "_view_module_version": "1.2.0",
      "_view_name": "StyleView",
      "description_width": ""
     }
    },
    "f58a0d292ed84f5c8374daa2b8382530": {
     "model_module": "@jupyter-widgets/controls",
     "model_name": "DescriptionStyleModel",
     "state": {
      "_model_module": "@jupyter-widgets/controls",
      "_model_module_version": "1.5.0",
      "_model_name": "DescriptionStyleModel",
      "_view_count": null,
      "_view_module": "@jupyter-widgets/base",
      "_view_module_version": "1.2.0",
      "_view_name": "StyleView",
      "description_width": ""
     }
    }
   }
  }
 },
 "nbformat": 4,
 "nbformat_minor": 1
}
